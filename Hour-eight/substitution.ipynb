{
 "cells": [
  {
   "cell_type": "code",
   "execution_count": 1,
   "metadata": {},
   "outputs": [
    {
     "name": "stdout",
     "output_type": "stream",
     "text": [
      "Manipulating_file_attributes.ipynb \u001b[1m\u001b[35mdavid2\u001b[m\u001b[m\r\n",
      "Processes.ipynb                    \u001b[30m\u001b[43mdirectory\u001b[m\u001b[m\r\n",
      "Untitled.ipynb                     \u001b[1m\u001b[32mfile2\u001b[m\u001b[m\r\n",
      "Untitled1.ipynb                    \u001b[1m\u001b[32mfilename\u001b[m\u001b[m\r\n",
      "Untitled2.ipynb                    \u001b[1m\u001b[34mnewdirectory\u001b[m\u001b[m\r\n",
      "Untitled3.ipynb                    \u001b[1m\u001b[32mscript_basics.ipynb\u001b[m\u001b[m\r\n",
      "Untitled4.ipynb                    variable.ipynb\r\n",
      "Working_with_directories.ipynb     working_with_files.ipynb\r\n"
     ]
    }
   ],
   "source": [
    "# * matches zero or more occurrences of any character\n",
    "# ? matches one occurrence of any character\n",
    "!ls\n"
   ]
  },
  {
   "cell_type": "code",
   "execution_count": 4,
   "metadata": {},
   "outputs": [
    {
     "name": "stdout",
     "output_type": "stream",
     "text": [
      "Untitled.ipynb  Untitled1.ipynb Untitled2.ipynb Untitled3.ipynb Untitled4.ipynb\r\n"
     ]
    }
   ],
   "source": [
    "!ls Untitled*.*"
   ]
  },
  {
   "cell_type": "code",
   "execution_count": 5,
   "metadata": {},
   "outputs": [],
   "source": [
    "#Matching a file Prefix and suffix "
   ]
  },
  {
   "cell_type": "code",
   "execution_count": 6,
   "metadata": {},
   "outputs": [],
   "source": [
    "!touch file1.doc file2.doc"
   ]
  },
  {
   "cell_type": "code",
   "execution_count": 7,
   "metadata": {},
   "outputs": [
    {
     "name": "stdout",
     "output_type": "stream",
     "text": [
      "Manipulating_file_attributes.ipynb \u001b[30m\u001b[43mdirectory\u001b[m\u001b[m\r\n",
      "Processes.ipynb                    file1.doc\r\n",
      "Untitled.ipynb                     \u001b[1m\u001b[32mfile2\u001b[m\u001b[m\r\n",
      "Untitled1.ipynb                    file2.doc\r\n",
      "Untitled2.ipynb                    \u001b[1m\u001b[32mfilename\u001b[m\u001b[m\r\n",
      "Untitled3.ipynb                    \u001b[1m\u001b[34mnewdirectory\u001b[m\u001b[m\r\n",
      "Untitled4.ipynb                    \u001b[1m\u001b[32mscript_basics.ipynb\u001b[m\u001b[m\r\n",
      "Working_with_directories.ipynb     variable.ipynb\r\n",
      "\u001b[1m\u001b[35mdavid2\u001b[m\u001b[m                             working_with_files.ipynb\r\n"
     ]
    }
   ],
   "source": [
    "!ls"
   ]
  },
  {
   "cell_type": "code",
   "execution_count": 8,
   "metadata": {},
   "outputs": [
    {
     "name": "stdout",
     "output_type": "stream",
     "text": [
      "file1.doc file2.doc\r\n"
     ]
    }
   ],
   "source": [
    "!ls *.doc"
   ]
  },
  {
   "cell_type": "code",
   "execution_count": 9,
   "metadata": {},
   "outputs": [],
   "source": [
    "# Above example * is used as suffix"
   ]
  },
  {
   "cell_type": "code",
   "execution_count": 10,
   "metadata": {},
   "outputs": [
    {
     "name": "stdout",
     "output_type": "stream",
     "text": [
      "Untitled.ipynb  Untitled1.ipynb Untitled2.ipynb Untitled3.ipynb Untitled4.ipynb\r\n"
     ]
    }
   ],
   "source": [
    "# use as suffix and prefix as below \n",
    "!ls Untitled*.*"
   ]
  },
  {
   "cell_type": "code",
   "execution_count": 11,
   "metadata": {},
   "outputs": [],
   "source": [
    "# If you would like match only one character sometimes * does not give so we use ? wildcards"
   ]
  },
  {
   "cell_type": "code",
   "execution_count": 16,
   "metadata": {},
   "outputs": [],
   "source": [
    "! touch file10.doc file20.doc file30.doc"
   ]
  },
  {
   "cell_type": "code",
   "execution_count": 17,
   "metadata": {},
   "outputs": [
    {
     "name": "stdout",
     "output_type": "stream",
     "text": [
      "Manipulating_file_attributes.ipynb file10.doc\r\n",
      "Processes.ipynb                    \u001b[1m\u001b[32mfile2\u001b[m\u001b[m\r\n",
      "Untitled.ipynb                     file2.doc\r\n",
      "Untitled1.ipynb                    file20.doc\r\n",
      "Untitled2.ipynb                    file30.doc\r\n",
      "Untitled3.ipynb                    \u001b[1m\u001b[32mfilename\u001b[m\u001b[m\r\n",
      "Untitled4.ipynb                    \u001b[1m\u001b[34mnewdirectory\u001b[m\u001b[m\r\n",
      "Working_with_directories.ipynb     \u001b[1m\u001b[32mscript_basics.ipynb\u001b[m\u001b[m\r\n",
      "\u001b[1m\u001b[35mdavid2\u001b[m\u001b[m                             variable.ipynb\r\n",
      "\u001b[30m\u001b[43mdirectory\u001b[m\u001b[m                          working_with_files.ipynb\r\n",
      "file1.doc\r\n"
     ]
    }
   ],
   "source": [
    "!ls"
   ]
  },
  {
   "cell_type": "code",
   "execution_count": 18,
   "metadata": {},
   "outputs": [
    {
     "name": "stdout",
     "output_type": "stream",
     "text": [
      "file1.doc  file10.doc \u001b[1m\u001b[32mfile2\u001b[m\u001b[m      file2.doc  file20.doc file30.doc \u001b[1m\u001b[32mfilename\u001b[m\u001b[m\r\n"
     ]
    }
   ],
   "source": [
    "!ls file*"
   ]
  },
  {
   "cell_type": "code",
   "execution_count": 35,
   "metadata": {},
   "outputs": [
    {
     "name": "stdout",
     "output_type": "stream",
     "text": [
      "file1.doc file2.doc\r\n"
     ]
    }
   ],
   "source": [
    "!ls file?.doc"
   ]
  },
  {
   "cell_type": "code",
   "execution_count": 36,
   "metadata": {},
   "outputs": [
    {
     "name": "stdout",
     "output_type": "stream",
     "text": [
      "file10.doc file20.doc file30.doc\r\n"
     ]
    }
   ],
   "source": [
    "!ls file??.doc"
   ]
  },
  {
   "cell_type": "code",
   "execution_count": 38,
   "metadata": {},
   "outputs": [
    {
     "name": "stdout",
     "output_type": "stream",
     "text": [
      "\u001b[1m\u001b[32mdavid2\u001b[m\u001b[m                   file2.doc                \u001b[1m\u001b[32mscript_basics.ipynb\u001b[m\u001b[m\r\n",
      "file1.doc                file20.doc               variable.ipynb\r\n",
      "file10.doc               file30.doc               working_with_files.ipynb\r\n",
      "\u001b[1m\u001b[32mfile2\u001b[m\u001b[m                    \u001b[1m\u001b[32mfilename\u001b[m\u001b[m\r\n",
      "\r\n",
      "directory:\r\n",
      "\r\n",
      "newdirectory:\r\n"
     ]
    }
   ],
   "source": [
    "# matching file starts with letters for lower case\n",
    "!ls [a-z]*"
   ]
  },
  {
   "cell_type": "code",
   "execution_count": 39,
   "metadata": {},
   "outputs": [
    {
     "name": "stdout",
     "output_type": "stream",
     "text": [
      "Manipulating_file_attributes.ipynb Untitled2.ipynb\r\n",
      "Processes.ipynb                    Untitled3.ipynb\r\n",
      "Untitled.ipynb                     Untitled4.ipynb\r\n",
      "Untitled1.ipynb                    Working_with_directories.ipynb\r\n"
     ]
    }
   ],
   "source": [
    "# For upper case \n",
    "!ls [A-Z]*"
   ]
  },
  {
   "cell_type": "code",
   "execution_count": 40,
   "metadata": {},
   "outputs": [
    {
     "name": "stdout",
     "output_type": "stream",
     "text": [
      "Manipulating_file_attributes.ipynb file10.doc\n",
      "Processes.ipynb                    \u001b[1m\u001b[32mfile2\u001b[m\u001b[m\n",
      "Untitled.ipynb                     file2.doc\n",
      "Untitled1.ipynb                    file20.doc\n",
      "Untitled2.ipynb                    file30.doc\n",
      "Untitled3.ipynb                    \u001b[1m\u001b[32mfilename\u001b[m\u001b[m\n",
      "Untitled4.ipynb                    \u001b[1m\u001b[32mscript_basics.ipynb\u001b[m\u001b[m\n",
      "Working_with_directories.ipynb     variable.ipynb\n",
      "\u001b[1m\u001b[32mdavid2\u001b[m\u001b[m                             working_with_files.ipynb\n",
      "file1.doc\n",
      "\n",
      "directory:\n",
      "\n",
      "newdirectory:\n"
     ]
    }
   ],
   "source": [
    "!ls [a-zA-Z]*"
   ]
  },
  {
   "cell_type": "code",
   "execution_count": 41,
   "metadata": {},
   "outputs": [
    {
     "name": "stdout",
     "output_type": "stream",
     "text": [
      "Manipulating_file_attributes.ipynb file10.doc\r\n",
      "Processes.ipynb                    \u001b[1m\u001b[32mfile2\u001b[m\u001b[m\r\n",
      "Untitled.ipynb                     file2.doc\r\n",
      "Untitled1.ipynb                    file20.doc\r\n",
      "Untitled2.ipynb                    file30.doc\r\n",
      "Untitled3.ipynb                    \u001b[1m\u001b[32mfilename\u001b[m\u001b[m\r\n",
      "Untitled4.ipynb                    \u001b[1m\u001b[32mscript_basics.ipynb\u001b[m\u001b[m\r\n",
      "Working_with_directories.ipynb     variable.ipynb\r\n",
      "\u001b[1m\u001b[32mdavid2\u001b[m\u001b[m                             working_with_files.ipynb\r\n",
      "file1.doc\r\n",
      "\r\n",
      "directory:\r\n",
      "\r\n",
      "newdirectory:\r\n"
     ]
    }
   ],
   "source": [
    "!ls [a-zA-Z0-9]*\n"
   ]
  },
  {
   "cell_type": "code",
   "execution_count": null,
   "metadata": {},
   "outputs": [],
   "source": []
  }
 ],
 "metadata": {
  "kernelspec": {
   "display_name": "Python 3",
   "language": "python",
   "name": "python3"
  },
  "language_info": {
   "codemirror_mode": {
    "name": "ipython",
    "version": 3
   },
   "file_extension": ".py",
   "mimetype": "text/x-python",
   "name": "python",
   "nbconvert_exporter": "python",
   "pygments_lexer": "ipython3",
   "version": "3.7.1"
  }
 },
 "nbformat": 4,
 "nbformat_minor": 2
}
