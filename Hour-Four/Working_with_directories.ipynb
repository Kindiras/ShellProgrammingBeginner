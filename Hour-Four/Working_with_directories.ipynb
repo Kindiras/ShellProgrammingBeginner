{
 "cells": [
  {
   "cell_type": "code",
   "execution_count": 1,
   "metadata": {},
   "outputs": [
    {
     "name": "stdout",
     "output_type": "stream",
     "text": [
      "/Users/kteeka/Dropbox/shell-programs\r\n"
     ]
    }
   ],
   "source": [
    "#To see the location of current directory\n",
    "!pwd"
   ]
  },
  {
   "cell_type": "code",
   "execution_count": 2,
   "metadata": {},
   "outputs": [],
   "source": [
    "#Two dots(..) gives directory above in the tree, and single dot (.) gives the current directory"
   ]
  },
  {
   "cell_type": "code",
   "execution_count": 3,
   "metadata": {},
   "outputs": [],
   "source": [
    "# changing the directory use cd\n",
    "!cd ../\n"
   ]
  },
  {
   "cell_type": "code",
   "execution_count": 4,
   "metadata": {},
   "outputs": [
    {
     "name": "stdout",
     "output_type": "stream",
     "text": [
      "/Users/kteeka/Dropbox/shell-programs\r\n"
     ]
    }
   ],
   "source": [
    "!pwd"
   ]
  },
  {
   "cell_type": "code",
   "execution_count": 5,
   "metadata": {},
   "outputs": [],
   "source": [
    "!cd ../\n"
   ]
  },
  {
   "cell_type": "code",
   "execution_count": 7,
   "metadata": {},
   "outputs": [
    {
     "name": "stdout",
     "output_type": "stream",
     "text": [
      "Untitled.ipynb           \u001b[1m\u001b[32mfile2\u001b[m\u001b[m                    script_basics.ipynb\r\n",
      "Untitled1.ipynb          \u001b[1m\u001b[32mfilename\u001b[m\u001b[m                 working_with_files.ipynb\r\n",
      "Untitled2.ipynb          \u001b[1m\u001b[34mfolders\u001b[m\u001b[m\r\n"
     ]
    }
   ],
   "source": [
    "!ls\n"
   ]
  },
  {
   "cell_type": "code",
   "execution_count": 9,
   "metadata": {},
   "outputs": [
    {
     "name": "stdout",
     "output_type": "stream",
     "text": [
      "/Users/kteeka/Dropbox/shell-programs\r\n"
     ]
    }
   ],
   "source": [
    "!pwd"
   ]
  },
  {
   "cell_type": "code",
   "execution_count": 10,
   "metadata": {},
   "outputs": [
    {
     "name": "stdout",
     "output_type": "stream",
     "text": [
      "/Users/kteeka/Dropbox/shell-programs/folders\n"
     ]
    }
   ],
   "source": [
    "cd folders/"
   ]
  },
  {
   "cell_type": "code",
   "execution_count": 11,
   "metadata": {},
   "outputs": [
    {
     "name": "stdout",
     "output_type": "stream",
     "text": [
      "/Users/kteeka/Dropbox/shell-programs\n"
     ]
    }
   ],
   "source": [
    "cd ../"
   ]
  },
  {
   "cell_type": "code",
   "execution_count": 12,
   "metadata": {},
   "outputs": [
    {
     "name": "stdout",
     "output_type": "stream",
     "text": [
      "/Users/kteeka/Dropbox/shell-programs\r\n"
     ]
    }
   ],
   "source": [
    "!pwd"
   ]
  },
  {
   "cell_type": "code",
   "execution_count": 14,
   "metadata": {},
   "outputs": [
    {
     "name": "stdout",
     "output_type": "stream",
     "text": [
      "\u001b[1m\u001b[34m.\u001b[m\u001b[m/                        Untitled1.ipynb           \u001b[1m\u001b[34mfolders\u001b[m\u001b[m/\r\n",
      "\u001b[1m\u001b[34m..\u001b[m\u001b[m/                       Untitled2.ipynb           script_basics.ipynb\r\n",
      "\u001b[1m\u001b[34m.ipynb_checkpoints\u001b[m\u001b[m/       \u001b[1m\u001b[32mfile2\u001b[m\u001b[m*                    working_with_files.ipynb\r\n",
      "Untitled.ipynb            \u001b[1m\u001b[32mfilename\u001b[m\u001b[m*\r\n"
     ]
    }
   ],
   "source": [
    "# Listing the director \n",
    "!ls -aF"
   ]
  },
  {
   "cell_type": "code",
   "execution_count": 15,
   "metadata": {},
   "outputs": [],
   "source": [
    "#Creating the direcotry\n",
    "!mkdir newdirectory"
   ]
  },
  {
   "cell_type": "code",
   "execution_count": 16,
   "metadata": {},
   "outputs": [
    {
     "name": "stdout",
     "output_type": "stream",
     "text": [
      "Untitled.ipynb           \u001b[1m\u001b[32mfile2\u001b[m\u001b[m                    \u001b[1m\u001b[34mnewdirectory\u001b[m\u001b[m\r\n",
      "Untitled1.ipynb          \u001b[1m\u001b[32mfilename\u001b[m\u001b[m                 script_basics.ipynb\r\n",
      "Untitled2.ipynb          \u001b[1m\u001b[34mfolders\u001b[m\u001b[m                  working_with_files.ipynb\r\n"
     ]
    }
   ],
   "source": [
    "!ls"
   ]
  },
  {
   "cell_type": "code",
   "execution_count": 17,
   "metadata": {},
   "outputs": [],
   "source": [
    "#To make a directory which is the parent directory mkdir does not work\n",
    "# use mkdir -p \n",
    "!mkdir -p example/example2"
   ]
  },
  {
   "cell_type": "code",
   "execution_count": 18,
   "metadata": {},
   "outputs": [
    {
     "name": "stdout",
     "output_type": "stream",
     "text": [
      "Untitled.ipynb           \u001b[1m\u001b[32mfile2\u001b[m\u001b[m                    script_basics.ipynb\r\n",
      "Untitled1.ipynb          \u001b[1m\u001b[32mfilename\u001b[m\u001b[m                 working_with_files.ipynb\r\n",
      "Untitled2.ipynb          \u001b[1m\u001b[34mfolders\u001b[m\u001b[m\r\n",
      "\u001b[1m\u001b[34mexample\u001b[m\u001b[m                  \u001b[1m\u001b[34mnewdirectory\u001b[m\u001b[m\r\n"
     ]
    }
   ],
   "source": [
    "!ls\n"
   ]
  },
  {
   "cell_type": "code",
   "execution_count": 19,
   "metadata": {},
   "outputs": [
    {
     "name": "stdout",
     "output_type": "stream",
     "text": [
      "/Users/kteeka/Dropbox/shell-programs/example\n"
     ]
    }
   ],
   "source": [
    "cd example/\n"
   ]
  },
  {
   "cell_type": "code",
   "execution_count": 20,
   "metadata": {},
   "outputs": [
    {
     "name": "stdout",
     "output_type": "stream",
     "text": [
      "\u001b[1m\u001b[34mexample2\u001b[m\u001b[m\r\n"
     ]
    }
   ],
   "source": [
    "!ls"
   ]
  },
  {
   "cell_type": "code",
   "execution_count": 21,
   "metadata": {},
   "outputs": [
    {
     "name": "stdout",
     "output_type": "stream",
     "text": [
      "/Users/kteeka/Dropbox\n"
     ]
    }
   ],
   "source": [
    "cd ../../"
   ]
  },
  {
   "cell_type": "code",
   "execution_count": 22,
   "metadata": {},
   "outputs": [
    {
     "name": "stdout",
     "output_type": "stream",
     "text": [
      "/Users/kteeka/Dropbox\r\n"
     ]
    }
   ],
   "source": [
    "!pwd"
   ]
  },
  {
   "cell_type": "code",
   "execution_count": 23,
   "metadata": {},
   "outputs": [
    {
     "name": "stdout",
     "output_type": "stream",
     "text": [
      "/Users/kteeka/Dropbox/shell-programs\n"
     ]
    }
   ],
   "source": [
    "cd shell-programs/"
   ]
  },
  {
   "cell_type": "code",
   "execution_count": 24,
   "metadata": {},
   "outputs": [],
   "source": [
    "# Copy and rename of directory\n",
    "!cp -r folders example/"
   ]
  },
  {
   "cell_type": "code",
   "execution_count": 25,
   "metadata": {},
   "outputs": [
    {
     "name": "stdout",
     "output_type": "stream",
     "text": [
      "Untitled.ipynb           \u001b[1m\u001b[32mfile2\u001b[m\u001b[m                    script_basics.ipynb\r\n",
      "Untitled1.ipynb          \u001b[1m\u001b[32mfilename\u001b[m\u001b[m                 working_with_files.ipynb\r\n",
      "Untitled2.ipynb          \u001b[1m\u001b[34mfolders\u001b[m\u001b[m\r\n",
      "\u001b[1m\u001b[34mexample\u001b[m\u001b[m                  \u001b[1m\u001b[34mnewdirectory\u001b[m\u001b[m\r\n"
     ]
    }
   ],
   "source": [
    "!ls"
   ]
  },
  {
   "cell_type": "code",
   "execution_count": 26,
   "metadata": {},
   "outputs": [
    {
     "name": "stdout",
     "output_type": "stream",
     "text": [
      "/Users/kteeka/Dropbox/shell-programs/example\n"
     ]
    }
   ],
   "source": [
    "cd example/"
   ]
  },
  {
   "cell_type": "code",
   "execution_count": 27,
   "metadata": {},
   "outputs": [
    {
     "name": "stdout",
     "output_type": "stream",
     "text": [
      "\u001b[1m\u001b[34mexample2\u001b[m\u001b[m \u001b[1m\u001b[34mfolders\u001b[m\u001b[m\r\n"
     ]
    }
   ],
   "source": [
    "!ls"
   ]
  },
  {
   "cell_type": "code",
   "execution_count": 28,
   "metadata": {},
   "outputs": [
    {
     "name": "stdout",
     "output_type": "stream",
     "text": [
      "/Users/kteeka/Dropbox/shell-programs\n"
     ]
    }
   ],
   "source": [
    "cd ..\n"
   ]
  },
  {
   "cell_type": "code",
   "execution_count": 29,
   "metadata": {},
   "outputs": [
    {
     "name": "stdout",
     "output_type": "stream",
     "text": [
      "Untitled.ipynb           \u001b[1m\u001b[32mfile2\u001b[m\u001b[m                    script_basics.ipynb\r\n",
      "Untitled1.ipynb          \u001b[1m\u001b[32mfilename\u001b[m\u001b[m                 working_with_files.ipynb\r\n",
      "Untitled2.ipynb          \u001b[1m\u001b[34mfolders\u001b[m\u001b[m\r\n",
      "\u001b[1m\u001b[34mexample\u001b[m\u001b[m                  \u001b[1m\u001b[34mnewdirectory\u001b[m\u001b[m\r\n"
     ]
    }
   ],
   "source": [
    "!ls"
   ]
  },
  {
   "cell_type": "code",
   "execution_count": 30,
   "metadata": {},
   "outputs": [],
   "source": [
    "mv folders/ example/"
   ]
  },
  {
   "cell_type": "code",
   "execution_count": 31,
   "metadata": {},
   "outputs": [
    {
     "name": "stdout",
     "output_type": "stream",
     "text": [
      "Untitled.ipynb           \u001b[1m\u001b[34mexample\u001b[m\u001b[m                  \u001b[1m\u001b[34mnewdirectory\u001b[m\u001b[m\r\n",
      "Untitled1.ipynb          \u001b[1m\u001b[32mfile2\u001b[m\u001b[m                    script_basics.ipynb\r\n",
      "Untitled2.ipynb          \u001b[1m\u001b[32mfilename\u001b[m\u001b[m                 working_with_files.ipynb\r\n"
     ]
    }
   ],
   "source": [
    "!ls\n"
   ]
  },
  {
   "cell_type": "code",
   "execution_count": 33,
   "metadata": {},
   "outputs": [
    {
     "name": "stdout",
     "output_type": "stream",
     "text": [
      "rmdir: example/: Directory not empty\r\n"
     ]
    }
   ],
   "source": [
    "#Remove the folder use rmdir removes exmpty directory and rm -r to remove the dirctory contains files and folders\n",
    "!rmdir example/"
   ]
  },
  {
   "cell_type": "code",
   "execution_count": 34,
   "metadata": {},
   "outputs": [
    {
     "name": "stdout",
     "output_type": "stream",
     "text": [
      "Untitled.ipynb           \u001b[1m\u001b[34mexample\u001b[m\u001b[m                  \u001b[1m\u001b[34mnewdirectory\u001b[m\u001b[m\r\n",
      "Untitled1.ipynb          \u001b[1m\u001b[32mfile2\u001b[m\u001b[m                    script_basics.ipynb\r\n",
      "Untitled2.ipynb          \u001b[1m\u001b[32mfilename\u001b[m\u001b[m                 working_with_files.ipynb\r\n"
     ]
    }
   ],
   "source": [
    "!ls"
   ]
  },
  {
   "cell_type": "code",
   "execution_count": 35,
   "metadata": {},
   "outputs": [],
   "source": [
    "!rm -r example/"
   ]
  },
  {
   "cell_type": "code",
   "execution_count": 36,
   "metadata": {},
   "outputs": [
    {
     "name": "stdout",
     "output_type": "stream",
     "text": [
      "Untitled.ipynb           \u001b[1m\u001b[32mfile2\u001b[m\u001b[m                    script_basics.ipynb\r\n",
      "Untitled1.ipynb          \u001b[1m\u001b[32mfilename\u001b[m\u001b[m                 working_with_files.ipynb\r\n",
      "Untitled2.ipynb          \u001b[1m\u001b[34mnewdirectory\u001b[m\u001b[m\r\n"
     ]
    }
   ],
   "source": [
    "!ls"
   ]
  }
 ],
 "metadata": {
  "kernelspec": {
   "display_name": "Python 3",
   "language": "python",
   "name": "python3"
  },
  "language_info": {
   "codemirror_mode": {
    "name": "ipython",
    "version": 3
   },
   "file_extension": ".py",
   "mimetype": "text/x-python",
   "name": "python",
   "nbconvert_exporter": "python",
   "pygments_lexer": "ipython3",
   "version": "3.7.3"
  }
 },
 "nbformat": 4,
 "nbformat_minor": 2
}
