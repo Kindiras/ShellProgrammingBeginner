{
 "cells": [
  {
   "cell_type": "code",
   "execution_count": 3,
   "metadata": {},
   "outputs": [],
   "source": [
    "#Foreground process and bacground process\n",
    "# ls command show the screen out put to see the processs!"
   ]
  },
  {
   "cell_type": "code",
   "execution_count": 5,
   "metadata": {},
   "outputs": [],
   "source": [
    "# To see the option for the process use set -o command"
   ]
  },
  {
   "cell_type": "code",
   "execution_count": 7,
   "metadata": {},
   "outputs": [
    {
     "name": "stdout",
     "output_type": "stream",
     "text": [
      "allexport      \toff\r\n",
      "braceexpand    \ton\r\n",
      "emacs          \toff\r\n",
      "errexit        \toff\r\n",
      "errtrace       \toff\r\n",
      "functrace      \toff\r\n",
      "hashall        \ton\r\n",
      "histexpand     \toff\r\n",
      "history        \toff\r\n",
      "ignoreeof      \toff\r\n",
      "interactive-comments\ton\r\n",
      "keyword        \toff\r\n",
      "monitor        \toff\r\n",
      "noclobber      \toff\r\n",
      "noexec         \toff\r\n",
      "noglob         \toff\r\n",
      "nolog          \toff\r\n",
      "notify         \toff\r\n",
      "nounset        \toff\r\n",
      "onecmd         \toff\r\n",
      "physical       \toff\r\n",
      "pipefail       \toff\r\n",
      "posix          \ton\r\n",
      "privileged     \toff\r\n",
      "verbose        \toff\r\n",
      "vi             \toff\r\n",
      "xtrace         \toff\r\n"
     ]
    }
   ],
   "source": [
    "!set -o"
   ]
  },
  {
   "cell_type": "code",
   "execution_count": 8,
   "metadata": {},
   "outputs": [],
   "source": [
    "#To set the monitor message off use set +o monitor"
   ]
  },
  {
   "cell_type": "code",
   "execution_count": 11,
   "metadata": {},
   "outputs": [],
   "source": [
    "!set +o monitor"
   ]
  },
  {
   "cell_type": "code",
   "execution_count": 14,
   "metadata": {},
   "outputs": [],
   "source": [
    "#To turn on the monitor for bacground process do as:\n",
    "!set -o monitor "
   ]
  },
  {
   "cell_type": "code",
   "execution_count": 15,
   "metadata": {},
   "outputs": [],
   "source": [
    "# To see the key function sue stty -a"
   ]
  },
  {
   "cell_type": "code",
   "execution_count": 17,
   "metadata": {},
   "outputs": [
    {
     "name": "stdout",
     "output_type": "stream",
     "text": [
      "speed 9600 baud; 24 rows; 80 columns;\r\n",
      "lflags: icanon isig iexten echo echoe -echok echoke -echonl echoctl\r\n",
      "\t-echoprt -altwerase -noflsh -tostop -flusho -pendin -nokerninfo\r\n",
      "\t-extproc\r\n",
      "iflags: -istrip icrnl -inlcr -igncr ixon -ixoff ixany imaxbel -iutf8\r\n",
      "\t-ignbrk brkint -inpck -ignpar -parmrk\r\n",
      "oflags: opost onlcr -oxtabs -onocr -onlret\r\n",
      "cflags: cread cs8 -parenb -parodd hupcl -clocal -cstopb -crtscts -dsrflow\r\n",
      "\t-dtrflow -mdmbuf\r\n",
      "cchars: discard = ^O; dsusp = ^Y; eof = ^D; eol = <undef>;\r\n",
      "\teol2 = <undef>; erase = ^?; intr = ^C; kill = ^U; lnext = ^V;\r\n",
      "\tmin = 1; quit = ^\\; reprint = ^R; start = ^Q; status = ^T;\r\n",
      "\tstop = ^S; susp = ^Z; time = 0; werase = ^W;\r\n"
     ]
    }
   ],
   "source": [
    "!stty -a"
   ]
  },
  {
   "cell_type": "code",
   "execution_count": 19,
   "metadata": {},
   "outputs": [],
   "source": [
    "# jobs command shows the processes suspended and running\n",
    "!jobs"
   ]
  },
  {
   "cell_type": "code",
   "execution_count": 20,
   "metadata": {},
   "outputs": [
    {
     "name": "stdout",
     "output_type": "stream",
     "text": [
      "  UID   PID  PPID   C STIME   TTY           TIME CMD\r\n",
      "  501   437   232   0 12:32PM ttys000    0:00.02 /Applications/iTerm.app/Contents/MacOS/iTerm2 --server login -fp ikhatri\r\n",
      "  501   439   438   0 12:32PM ttys000    0:00.02 -bash\r\n",
      "  501   575   439   0 12:43PM ttys000    0:03.73 /Users/ikhatri/anaconda3/bin/python /Users/ikhatri/anaconda3/bin/jupyter-notebook\r\n",
      "  501   740   232   0  2:41PM ttys001    0:00.03 /Applications/iTerm.app/Contents/MacOS/iTerm2 --server login -fp ikhatri\r\n",
      "  501   742   741   0  2:41PM ttys001    0:00.01 -bash\r\n"
     ]
    }
   ],
   "source": [
    "# command ps (process status) shows the status of all the processes running\n",
    "# -f (full) gives the full information with ps command as \n",
    "!ps -f"
   ]
  },
  {
   "cell_type": "code",
   "execution_count": 23,
   "metadata": {},
   "outputs": [
    {
     "name": "stdout",
     "output_type": "stream",
     "text": [
      "  PID TTY           TIME CMD\r\n",
      "    1 ??         0:06.76 /sbin/launchd\r\n",
      "   39 ??         0:01.28 /usr/libexec/UserEventAgent (System)\r\n",
      "   40 ??         0:00.91 /usr/sbin/syslogd\r\n",
      "   42 ??         0:00.48 /usr/libexec/kextd\r\n",
      "   43 ??         0:01.74 /System/Library/Frameworks/CoreServices.framework/Vers\r\n",
      "   45 ??         0:00.02 /usr/libexec/thermald\r\n",
      "   47 ??         0:00.17 /System/Library/CoreServices/appleeventsd --server\r\n",
      "   48 ??         0:01.12 /usr/libexec/configd\r\n",
      "   49 ??         0:00.23 /System/Library/CoreServices/powerd.bundle/powerd\r\n",
      "   52 ??         0:01.57 /usr/libexec/airportd\r\n",
      "   54 ??         0:00.13 /usr/libexec/warmd\r\n",
      "   55 ??         0:07.69 /System/Library/Frameworks/CoreServices.framework/Fram\r\n",
      "   59 ??         0:00.03 /System/Library/CoreServices/iconservicesd\r\n",
      "   60 ??         0:00.02 /System/Library/CoreServices/iconservicesagent\r\n",
      "   61 ??         0:00.07 /usr/libexec/diskarbitrationd\r\n",
      "   64 ??         0:01.10 /usr/libexec/coreduetd\r\n",
      "   65 ??         0:00.02 /usr/libexec/wdhelper\r\n",
      "   67 ??         0:00.03 /System/Library/PrivateFrameworks/WirelessDiagnostics.\r\n",
      "   68 ??         0:02.07 /usr/libexec/opendirectoryd\r\n",
      "   69 ??         0:00.05 /usr/sbin/wirelessproxd\r\n",
      "   71 ??         0:00.47 /System/Library/PrivateFrameworks/ApplePushService.fra\r\n",
      "   72 ??         0:01.70 /System/Library/CoreServices/launchservicesd\r\n",
      "   73 ??         0:00.03 /System/Library/PrivateFrameworks/MobileDevice.framewo\r\n",
      "   74 ??         0:00.79 /usr/sbin/securityd -i\r\n",
      "   78 ??         0:01.40 /usr/libexec/displaypolicyd\r\n",
      "   79 ??         0:00.22 /usr/sbin/blued\r\n",
      "   80 ??         0:00.02 autofsd\r\n",
      "   84 ??         0:00.58 /usr/sbin/mDNSResponder\r\n",
      "   86 ??         0:00.01 /usr/libexec/stackshot -t -O\r\n",
      "   87 ??         0:00.08 /System/Library/PrivateFrameworks/GenerationalStorage.\r\n",
      "   88 ??         0:00.99 /System/Library/CoreServices/loginwindow.app/Contents/\r\n",
      "   89 ??         0:00.02 /System/Library/CoreServices/logind\r\n",
      "   90 ??         0:00.01 /usr/sbin/KernelEventAgent\r\n",
      "   92 ??         0:00.02 /usr/libexec/hidd\r\n",
      "   93 ??         0:01.58 /usr/libexec/taskgated -s\r\n",
      "   94 ??         0:00.67 /System/Library/CoreServices/coreservicesd\r\n",
      "   95 ??         0:01.05 /usr/sbin/notifyd\r\n",
      "  102 ??         0:00.09 /usr/sbin/distnoted daemon\r\n",
      "  113 ??         0:00.16 /System/Library/Frameworks/Security.framework/Versions\r\n",
      "  119 ??         0:00.70 /usr/sbin/cfprefsd daemon\r\n",
      "  124 ??         0:00.03 /usr/libexec/diagnosticd\r\n",
      "  127 ??         0:00.02 /System/Library/Frameworks/PCSC.framework/Versions/A/X\r\n",
      "  128 ??         0:00.02 /System/Library/Frameworks/CryptoTokenKit.framework/ct\r\n",
      "  129 ??         0:00.03 /usr/libexec/secinitd\r\n",
      "  141 ??         1:51.30 /System/Library/Frameworks/ApplicationServices.framewo\r\n",
      "  144 ??         0:00.03 /usr/libexec/nsurlsessiond --privileged\r\n",
      "  145 ??         0:00.04 /usr/libexec/usbd\r\n",
      "  146 ??         0:00.03 /usr/libexec/nehelper\r\n",
      "  147 ??         0:00.40 /usr/sbin/ntpd -c /private/etc/ntp-restrict.conf -n -g\r\n",
      "  148 ??         0:00.23 /usr/libexec/networkd\r\n",
      "  149 ??         0:00.02 /System/Library/CryptoTokenKit/com.apple.ifdreader.slo\r\n",
      "  151 ??         0:00.01 /usr/libexec/networkd_privileged\r\n",
      "  169 ??         0:00.08 /usr/libexec/findmydeviced\r\n",
      "  170 ??         0:00.50 /usr/libexec/locationd\r\n",
      "  173 ??         0:06.53 /System/Library/Frameworks/CoreServices.framework/Fram\r\n",
      "  176 ??         0:00.08 /System/Library/PrivateFrameworks/Heimdal.framework/He\r\n",
      "  177 ??         0:00.15 /usr/libexec/watchdogd\r\n",
      "  178 ??         0:00.30 sysmond\r\n",
      "  179 ??         0:00.07 /System/Library/Frameworks/OpenGL.framework/Versions/A\r\n",
      "  181 ??         0:00.11 /System/Library/PrivateFrameworks/AmbientDisplay.frame\r\n",
      "  190 ??         0:00.06 /System/Library/Frameworks/Security.framework/Versions\r\n",
      "  207 ??         0:00.09 /System/Library/PrivateFrameworks/TCC.framework/Resour\r\n",
      "  208 ??         0:00.02 /usr/libexec/nsurlstoraged\r\n",
      "  218 ??         0:00.03 /System/Library/PrivateFrameworks/PerformanceAnalysis.\r\n",
      "  219 ??         0:00.02 /System/Library/PrivateFrameworks/AccountPolicy.framew\r\n",
      "  222 ??         0:00.13 /usr/libexec/securityd_service\r\n",
      "  223 ??         0:00.39 /usr/libexec/UserEventAgent (Aqua)\r\n",
      "  225 ??         0:00.59 /usr/sbin/distnoted agent\r\n",
      "  227 ??         0:00.82 /usr/sbin/cfprefsd agent\r\n",
      "  230 ??         0:00.85 /usr/libexec/amfid\r\n",
      "  232 ??         0:05.73 /Applications/iTerm.app/Contents/MacOS/iTerm2 -psn_0_3\r\n",
      "  233 ??         0:05.31 /Applications/Mail.app/Contents/MacOS/Mail -psn_0_3687\r\n",
      "  234 ??         0:00.12 /Applications/TextEdit.app/Contents/MacOS/TextEdit -ps\r\n",
      "  235 ??         0:00.49 /usr/sbin/usernoted\r\n",
      "  237 ??         0:02.21 /System/Library/CoreServices/Dock.app/Contents/MacOS/D\r\n",
      "  239 ??         0:20.95 /System/Library/CoreServices/SystemUIServer.app/Conten\r\n",
      "  241 ??         0:07.24 /System/Library/CoreServices/Finder.app/Contents/MacOS\r\n",
      "  242 ??         0:00.66 /usr/sbin/coreaudiod\r\n",
      "  243 ??         0:00.01 /usr/sbin/pboard\r\n",
      "  245 ??         0:00.80 /usr/libexec/nsurlstoraged\r\n",
      "  246 ??         0:00.05 /System/Library/CoreServices/pbs\r\n",
      "  248 ??         0:00.14 /System/Library/PrivateFrameworks/CacheDelete.framewor\r\n",
      "  249 ??         0:00.05 /System/Library/Frameworks/CoreAudio.framework/Version\r\n",
      "  250 ??         0:03.34 /System/Library/Frameworks/ApplicationServices.framewo\r\n",
      "  252 ??         0:00.08 /System/Library/CoreServices/backupd.bundle/Contents/R\r\n",
      "  253 ??         0:00.69 /System/Library/CoreServices/Spotlight.app/Contents/Ma\r\n",
      "  255 ??         0:00.79 /usr/libexec/sharingd\r\n",
      "  256 ??         0:00.17 /System/Library/PrivateFrameworks/TCC.framework/Resour\r\n",
      "  257 ??         0:01.15 /usr/libexec/pkd\r\n",
      "  259 ??         0:00.11 /System/Library/PrivateFrameworks/CloudDocsDaemon.fram\r\n",
      "  260 ??         0:01.06 /usr/libexec/secinitd\r\n",
      "  262 ??         0:00.14 /System/Library/CoreServices/AirPlayUIAgent.app/Conten\r\n",
      "  264 ??         0:00.08 /System/Library/CoreServices/iconservicesagent\r\n",
      "  265 ??         0:00.63 /System/Library/PrivateFrameworks/IDS.framework/identi\r\n",
      "  267 ??         0:00.17 /usr/libexec/secd\r\n",
      "  268 ??         0:00.03 /usr/sbin/filecoordinationd\r\n",
      "  269 ??         0:01.58 /Applications/Dropbox.app/Contents/PlugIns/garcon.appe\r\n",
      "  270 ??         0:00.18 /System/Library/PrivateFrameworks/TelephonyUtilities.f\r\n",
      "  271 ??         0:00.06 /System/Library/CoreServices/Menu Extras/AirPort.menu/\r\n",
      "  272 ??         0:03.00 /System/Library/Frameworks/Accounts.framework/Versions\r\n",
      "  274 ??         0:00.14 /System/Library/PrivateFrameworks/IMCore.framework/ima\r\n",
      "  275 ??         0:00.97 /System/Library/CoreServices/lsuseractivityd\r\n",
      "  276 ??         0:00.16 /System/Library/CoreServices/Dock.app/Contents/XPCServ\r\n",
      "  277 ??         0:00.04 /System/Library/PrivateFrameworks/IMDPersistence.frame\r\n",
      "  279 ??         0:02.53 /System/Library/PrivateFrameworks/ParsecUI.framework/V\r\n",
      "  280 ??         0:00.56 /usr/libexec/sandboxd -n PluginProcess -n \r\n",
      "  281 ??         0:00.20 /System/Library/CoreServices/CoreServicesUIAgent.app/C\r\n",
      "  282 ??         0:00.16 /System/Library/PrivateFrameworks/MessagesKit.framewor\r\n",
      "  283 ??         0:01.04 /System/Library/PrivateFrameworks/CalendarAgent.framew\r\n",
      "  284 ??         0:00.04 /System/Library/PrivateFrameworks/CallHistory.framewor\r\n",
      "  285 ??         0:00.06 /System/Library/PrivateFrameworks/CallHistory.framewor\r\n",
      "  286 ??         0:00.11 /usr/libexec/fmfd\r\n",
      "  287 ??         0:00.10 /System/Library/PrivateFrameworks/CoreSymbolication.fr\r\n",
      "  288 ??         0:00.47 /System/Library/PrivateFrameworks/CommerceKit.framewor\r\n",
      "  290 ??         0:00.26 /System/Library/PrivateFrameworks/CloudKitDaemon.frame\r\n",
      "  291 ??         0:00.23 /System/Library/PrivateFrameworks/CalendarAgent.framew\r\n",
      "  294 ??         0:01.37 /System/Library/CoreServices/Software Update.app/Conte\r\n",
      "  298 ??         0:00.03 /System/Library/PrivateFrameworks/SoftwareUpdate.frame\r\n",
      "  299 ??         0:00.02 /usr/libexec/nsurlsessiond\r\n",
      "  303 ??         0:00.07 /System/Library/PrivateFrameworks/InternetAccounts.fra\r\n",
      "  305 ??         0:00.04 /usr/libexec/spindump_agent\r\n",
      "  307 ??         0:00.03 /System/Library/CoreServices/SocialPushAgent.app/Conte\r\n",
      "  309 ??         0:00.08 /System/Library/CoreServices/Keychain Circle Notificat\r\n",
      "  312 ??         0:01.79 /System/Library/CoreServices/NotificationCenter.app/Co\r\n",
      "  314 ??         0:00.19 /System/Library/CoreServices/AppleIDAuthAgent\r\n",
      "  317 ??         0:00.03 /System/Library/PrivateFrameworks/AskPermission.framew\r\n",
      "  318 ??         0:00.08 /System/Library/CoreServices/cloudpaird\r\n",
      "  319 ??         0:00.01 /System/Library/PrivateFrameworks/HelpData.framework/V\r\n",
      "  321 ??         0:00.08 /System/Library/CoreServices/WiFiAgent.app/Contents/Ma\r\n",
      "  322 ??         0:00.10 /System/Library/CoreServices/diagnostics_agent\r\n",
      "  325 ??         3:57.86 /Applications/Dropbox.app/Contents/MacOS/Dropbox\r\n",
      "  326 ??         0:00.98 /Applications/Caffeine.app/Contents/MacOS/Caffeine\r\n",
      "  327 ??         0:00.21 /System/Library/CoreServices/mapspushd\r\n",
      "  328 ??         0:00.33 /System/Library/CoreServices/CrashReporterSupportHelpe\r\n",
      "  329 ??         0:00.02 /System/Library/Frameworks/Security.framework/Versions\r\n",
      "  331 ??         0:00.02 /Applications/Dropbox.app/Contents/MacOS/Dropbox -type\r\n",
      "  332 ??         0:00.05 /Applications/Dropbox.app/Contents/MacOS/Dropbox -type\r\n",
      "  341 ??         0:00.03 /System/Library/CoreServices/NotificationCenter.app/Co\r\n",
      "  342 ??         0:00.03 /System/Library/CoreServices/SubmitDiagInfo server-ini\r\n",
      "  347 ??         0:00.48 /usr/libexec/gamecontrollerd\r\n",
      "  352 ??         0:02.91 /Applications/Dropbox.app/Contents/Frameworks/Tungsten\r\n",
      "  353 ??         0:00.95 /Applications/Dropbox.app/Contents/Frameworks/Tungsten\r\n",
      "  354 ??         0:00.02 /System/Library/Frameworks/VideoToolbox.framework/Vers\r\n",
      "  368 ??         0:00.13 /Applications/Dropbox.app/Contents/XPCServices/Dropbox\r\n",
      "  396 ??         0:00.40 /Library/DropboxHelperTools/Dropbox_u501/dbfseventsd\r\n",
      "  398 ??         0:00.90 /Library/DropboxHelperTools/Dropbox_u501/dbfseventsd\r\n",
      "  399 ??         0:00.63 /Library/DropboxHelperTools/Dropbox_u501/dbfseventsd\r\n",
      "  400 ??         0:00.17 /Applications/Dropbox.app/Contents/XPCServices/Dropbox\r\n",
      "  401 ??         0:00.10 /System/Library/SystemConfiguration/EAPOLController.bu\r\n",
      "  414 ??         0:00.02 /System/Library/PrivateFrameworks/CommerceKit.framewor\r\n",
      "  415 ??         0:00.08 /System/Library/PrivateFrameworks/CommerceKit.framewor\r\n",
      "  416 ??         0:00.09 /System/Library/PrivateFrameworks/CommerceKit.framewor\r\n",
      "  417 ??         0:00.05 /System/Library/PrivateFrameworks/CommerceKit.framewor\r\n",
      "  426 ??         0:00.04 /usr/sbin/netbiosd\r\n",
      "  428 ??         0:00.95 /Applications/Dropbox.app/Contents/Frameworks/Tungsten\r\n",
      "  432 ??         0:01.21 /usr/sbin/spindump\r\n",
      "  455 ??         0:00.63 /System/Library/Frameworks/CoreServices.framework/Fram\r\n",
      "  456 ??         0:00.82 /System/Library/Frameworks/CoreServices.framework/Fram\r\n",
      "  457 ??         0:00.89 /System/Library/Frameworks/CoreServices.framework/Fram\r\n",
      "  459 ??         0:00.07 /System/Library/Frameworks/CoreServices.framework/Fram\r\n",
      "  460 ??         0:00.94 /System/Library/Frameworks/CoreServices.framework/Fram\r\n",
      "  464 ??         0:24.24 /Applications/Microsoft Outlook.app/Contents/MacOS/Mic\r\n",
      "  472 ??         0:00.05 /Library/Application Support/Microsoft/MAU2.0/Microsof\r\n",
      "  481 ??         0:00.10 /System/Library/PrivateFrameworks/CommerceKit.framewor\r\n",
      "  487 ??         0:00.07 /System/Library/Services/AppleSpell.service/Contents/M\r\n",
      "  489 ??         0:00.03 /System/Library/Frameworks/InputMethodKit.framework/Ve\r\n",
      "  490 ??         0:05.35 /usr/libexec/systemstatsd\r\n",
      "  491 ??         0:52.26 /Applications/Google Chrome.app/Contents/MacOS/Google \r\n",
      "  496 ??         0:00.01 /Applications/Google Chrome.app/Contents/Versions/74.0\r\n",
      "  500 ??         0:40.13 /Applications/Google Chrome.app/Contents/Versions/74.0\r\n",
      "  501 ??         0:05.61 /Applications/Google Chrome.app/Contents/Versions/74.0\r\n",
      "  502 ??         0:00.02 /System/Library/Frameworks/VideoToolbox.framework/Vers\r\n",
      "  503 ??         0:00.02 /Applications/Google Chrome.app/Contents/Versions/74.0\r\n",
      "  512 ??         0:01.75 /Applications/Google Chrome.app/Contents/Versions/74.0\r\n",
      "  515 ??         0:00.30 /System/Library/CoreServices/cloudphotosd.app/Contents\r\n",
      "  518 ??         0:00.05 /System/Library/PrivateFrameworks/CloudPhotoServices.f\r\n",
      "  520 ??         0:00.03 /System/Library/PrivateFrameworks/PhotoLibraryPrivate.\r\n",
      "  541 ??         0:00.17 /System/Library/Image Capture/Support/Image Capture Ex\r\n",
      "  563 ??         0:00.05 /usr/bin/ssh-agent -l\r\n",
      "  581 ??         1:11.47 /Applications/Google Chrome.app/Contents/Versions/74.0\r\n",
      "  586 ??         0:01.83 /Users/ikhatri/anaconda3/bin/python -m ipykernel_launc\r\n",
      "  594 ??         0:29.98 /Applications/Firefox.app/Contents/MacOS/firefox\r\n",
      "  596 ??         0:02.54 /Applications/Firefox.app/Contents/MacOS/plugin-contai\r\n",
      "  600 ??         3:39.86 /Applications/Firefox.app/Contents/MacOS/plugin-contai\r\n",
      "  601 ??         0:09.70 /Applications/Firefox.app/Contents/MacOS/plugin-contai\r\n",
      "  607 ??         0:00.02 /System/Library/Frameworks/AudioToolbox.framework/XPCS\r\n",
      "  616 ??         0:00.34 /Applications/Utilities/Terminal.app/Contents/MacOS/Te\r\n",
      "  632 ??         0:00.33 /Applications/Firefox.app/Contents/MacOS/plugin-contai\r\n",
      "  646 ??         0:18.91 /Applications/Google Chrome.app/Contents/Versions/74.0\r\n",
      "  720 ??         0:00.11 /System/Library/Frameworks/ApplicationServices.framewo\r\n",
      "  721 ??         0:00.15 /Applications/Google Chrome.app/Contents/Versions/74.0\r\n",
      "  754 ??         0:00.93 /Users/ikhatri/anaconda3/bin/python -m ipykernel_launc\r\n",
      "  437 ttys000    0:00.02 /Applications/iTerm.app/Contents/MacOS/iTerm2 --server\r\n",
      "  438 ttys000    0:00.03 login -fp ikhatri\r\n",
      "  439 ttys000    0:00.02 -bash\r\n",
      "  575 ttys000    0:03.80 /Users/ikhatri/anaconda3/bin/python /Users/ikhatri/ana\r\n",
      "  740 ttys001    0:00.03 /Applications/iTerm.app/Contents/MacOS/iTerm2 --server\r\n",
      "  741 ttys001    0:00.02 login -fp ikhatri\r\n",
      "  742 ttys001    0:00.01 -bash\r\n",
      "  781 ttys002    0:00.01 ps -e\r\n"
     ]
    }
   ],
   "source": [
    "# The command -e with ps are used\n",
    "!ps -e"
   ]
  },
  {
   "cell_type": "code",
   "execution_count": 24,
   "metadata": {},
   "outputs": [
    {
     "name": "stdout",
     "output_type": "stream",
     "text": [
      "  PID TTY           TIME CMD\r\n",
      "  437 ttys000    0:00.02 /Applications/iTerm.app/Contents/MacOS/iTerm2 --server\r\n",
      "  438 ttys000    0:00.03 login -fp ikhatri\r\n",
      "  439 ttys000    0:00.02 -bash\r\n",
      "  575 ttys000    0:03.85 /Users/ikhatri/anaconda3/bin/python /Users/ikhatri/ana\r\n",
      "  740 ttys001    0:00.03 /Applications/iTerm.app/Contents/MacOS/iTerm2 --server\r\n",
      "  741 ttys001    0:00.02 login -fp ikhatri\r\n",
      "  742 ttys001    0:00.01 -bash\r\n",
      "  782 ttys002    0:00.01 ps -a\r\n"
     ]
    }
   ],
   "source": [
    "#ps -a shows the information about all users\n",
    "# ps -x show the information about process without terminals\n",
    "#ps -u shows the additional information \n",
    "!ps -a"
   ]
  },
  {
   "cell_type": "code",
   "execution_count": 25,
   "metadata": {},
   "outputs": [
    {
     "name": "stdout",
     "output_type": "stream",
     "text": [
      "  PID TTY           TIME CMD\r\n",
      "  223 ??         0:00.39 /usr/libexec/UserEventAgent (Aqua)\r\n",
      "  225 ??         0:00.59 /usr/sbin/distnoted agent\r\n",
      "  227 ??         0:00.82 /usr/sbin/cfprefsd agent\r\n",
      "  232 ??         0:05.80 /Applications/iTerm.app/Contents/MacOS/iTerm2 -psn_0_3\r\n",
      "  233 ??         0:05.31 /Applications/Mail.app/Contents/MacOS/Mail -psn_0_3687\r\n",
      "  234 ??         0:00.13 /Applications/TextEdit.app/Contents/MacOS/TextEdit -ps\r\n",
      "  235 ??         0:00.49 /usr/sbin/usernoted\r\n",
      "  237 ??         0:02.21 /System/Library/CoreServices/Dock.app/Contents/MacOS/D\r\n",
      "  239 ??         0:21.16 /System/Library/CoreServices/SystemUIServer.app/Conten\r\n",
      "  241 ??         0:07.27 /System/Library/CoreServices/Finder.app/Contents/MacOS\r\n",
      "  243 ??         0:00.01 /usr/sbin/pboard\r\n",
      "  245 ??         0:00.80 /usr/libexec/nsurlstoraged\r\n",
      "  246 ??         0:00.05 /System/Library/CoreServices/pbs\r\n",
      "  250 ??         0:03.34 /System/Library/Frameworks/ApplicationServices.framewo\r\n",
      "  253 ??         0:00.69 /System/Library/CoreServices/Spotlight.app/Contents/Ma\r\n",
      "  255 ??         0:00.80 /usr/libexec/sharingd\r\n",
      "  256 ??         0:00.17 /System/Library/PrivateFrameworks/TCC.framework/Resour\r\n",
      "  257 ??         0:01.15 /usr/libexec/pkd\r\n",
      "  259 ??         0:00.11 /System/Library/PrivateFrameworks/CloudDocsDaemon.fram\r\n",
      "  260 ??         0:01.06 /usr/libexec/secinitd\r\n",
      "  262 ??         0:00.14 /System/Library/CoreServices/AirPlayUIAgent.app/Conten\r\n",
      "  264 ??         0:00.08 /System/Library/CoreServices/iconservicesagent\r\n",
      "  265 ??         0:00.63 /System/Library/PrivateFrameworks/IDS.framework/identi\r\n",
      "  267 ??         0:00.17 /usr/libexec/secd\r\n",
      "  269 ??         0:01.58 /Applications/Dropbox.app/Contents/PlugIns/garcon.appe\r\n",
      "  270 ??         0:00.18 /System/Library/PrivateFrameworks/TelephonyUtilities.f\r\n",
      "  271 ??         0:00.06 /System/Library/CoreServices/Menu Extras/AirPort.menu/\r\n",
      "  272 ??         0:03.00 /System/Library/Frameworks/Accounts.framework/Versions\r\n",
      "  274 ??         0:00.14 /System/Library/PrivateFrameworks/IMCore.framework/ima\r\n",
      "  275 ??         0:00.98 /System/Library/CoreServices/lsuseractivityd\r\n",
      "  276 ??         0:00.16 /System/Library/CoreServices/Dock.app/Contents/XPCServ\r\n",
      "  277 ??         0:00.04 /System/Library/PrivateFrameworks/IMDPersistence.frame\r\n",
      "  279 ??         0:02.53 /System/Library/PrivateFrameworks/ParsecUI.framework/V\r\n",
      "  281 ??         0:00.20 /System/Library/CoreServices/CoreServicesUIAgent.app/C\r\n",
      "  282 ??         0:00.16 /System/Library/PrivateFrameworks/MessagesKit.framewor\r\n",
      "  283 ??         0:01.04 /System/Library/PrivateFrameworks/CalendarAgent.framew\r\n",
      "  284 ??         0:00.04 /System/Library/PrivateFrameworks/CallHistory.framewor\r\n",
      "  285 ??         0:00.06 /System/Library/PrivateFrameworks/CallHistory.framewor\r\n",
      "  286 ??         0:00.11 /usr/libexec/fmfd\r\n",
      "  288 ??         0:00.47 /System/Library/PrivateFrameworks/CommerceKit.framewor\r\n",
      "  290 ??         0:00.26 /System/Library/PrivateFrameworks/CloudKitDaemon.frame\r\n",
      "  291 ??         0:00.23 /System/Library/PrivateFrameworks/CalendarAgent.framew\r\n",
      "  299 ??         0:00.02 /usr/libexec/nsurlsessiond\r\n",
      "  303 ??         0:00.07 /System/Library/PrivateFrameworks/InternetAccounts.fra\r\n",
      "  305 ??         0:00.04 /usr/libexec/spindump_agent\r\n",
      "  307 ??         0:00.03 /System/Library/CoreServices/SocialPushAgent.app/Conte\r\n",
      "  309 ??         0:00.08 /System/Library/CoreServices/Keychain Circle Notificat\r\n",
      "  312 ??         0:01.79 /System/Library/CoreServices/NotificationCenter.app/Co\r\n",
      "  314 ??         0:00.19 /System/Library/CoreServices/AppleIDAuthAgent\r\n",
      "  317 ??         0:00.03 /System/Library/PrivateFrameworks/AskPermission.framew\r\n",
      "  318 ??         0:00.08 /System/Library/CoreServices/cloudpaird\r\n",
      "  319 ??         0:00.01 /System/Library/PrivateFrameworks/HelpData.framework/V\r\n",
      "  321 ??         0:00.08 /System/Library/CoreServices/WiFiAgent.app/Contents/Ma\r\n",
      "  322 ??         0:00.10 /System/Library/CoreServices/diagnostics_agent\r\n",
      "  325 ??         3:59.73 /Applications/Dropbox.app/Contents/MacOS/Dropbox\r\n",
      "  326 ??         0:00.99 /Applications/Caffeine.app/Contents/MacOS/Caffeine\r\n",
      "  327 ??         0:00.21 /System/Library/CoreServices/mapspushd\r\n",
      "  329 ??         0:00.02 /System/Library/Frameworks/Security.framework/Versions\r\n",
      "  331 ??         0:00.02 /Applications/Dropbox.app/Contents/MacOS/Dropbox -type\r\n",
      "  332 ??         0:00.05 /Applications/Dropbox.app/Contents/MacOS/Dropbox -type\r\n",
      "  341 ??         0:00.03 /System/Library/CoreServices/NotificationCenter.app/Co\r\n",
      "  352 ??         0:02.93 /Applications/Dropbox.app/Contents/Frameworks/Tungsten\r\n",
      "  353 ??         0:00.95 /Applications/Dropbox.app/Contents/Frameworks/Tungsten\r\n",
      "  354 ??         0:00.02 /System/Library/Frameworks/VideoToolbox.framework/Vers\r\n",
      "  368 ??         0:00.13 /Applications/Dropbox.app/Contents/XPCServices/Dropbox\r\n",
      "  396 ??         0:00.40 /Library/DropboxHelperTools/Dropbox_u501/dbfseventsd\r\n",
      "  398 ??         0:00.90 /Library/DropboxHelperTools/Dropbox_u501/dbfseventsd\r\n",
      "  399 ??         0:00.63 /Library/DropboxHelperTools/Dropbox_u501/dbfseventsd\r\n",
      "  400 ??         0:00.17 /Applications/Dropbox.app/Contents/XPCServices/Dropbox\r\n",
      "  401 ??         0:00.10 /System/Library/SystemConfiguration/EAPOLController.bu\r\n",
      "  414 ??         0:00.02 /System/Library/PrivateFrameworks/CommerceKit.framewor\r\n",
      "  415 ??         0:00.08 /System/Library/PrivateFrameworks/CommerceKit.framewor\r\n",
      "  416 ??         0:00.09 /System/Library/PrivateFrameworks/CommerceKit.framewor\r\n",
      "  417 ??         0:00.05 /System/Library/PrivateFrameworks/CommerceKit.framewor\r\n",
      "  428 ??         0:00.95 /Applications/Dropbox.app/Contents/Frameworks/Tungsten\r\n",
      "  455 ??         0:00.63 /System/Library/Frameworks/CoreServices.framework/Fram\r\n",
      "  456 ??         0:00.82 /System/Library/Frameworks/CoreServices.framework/Fram\r\n",
      "  457 ??         0:00.89 /System/Library/Frameworks/CoreServices.framework/Fram\r\n",
      "  459 ??         0:00.07 /System/Library/Frameworks/CoreServices.framework/Fram\r\n",
      "  460 ??         0:00.95 /System/Library/Frameworks/CoreServices.framework/Fram\r\n",
      "  464 ??         0:24.28 /Applications/Microsoft Outlook.app/Contents/MacOS/Mic\r\n",
      "  472 ??         0:00.05 /Library/Application Support/Microsoft/MAU2.0/Microsof\r\n",
      "  481 ??         0:00.10 /System/Library/PrivateFrameworks/CommerceKit.framewor\r\n",
      "  487 ??         0:00.07 /System/Library/Services/AppleSpell.service/Contents/M\r\n",
      "  489 ??         0:00.03 /System/Library/Frameworks/InputMethodKit.framework/Ve\r\n",
      "  491 ??         0:53.04 /Applications/Google Chrome.app/Contents/MacOS/Google \r\n",
      "  496 ??         0:00.01 /Applications/Google Chrome.app/Contents/Versions/74.0\r\n",
      "  500 ??         0:41.14 /Applications/Google Chrome.app/Contents/Versions/74.0\r\n",
      "  501 ??         0:05.61 /Applications/Google Chrome.app/Contents/Versions/74.0\r\n",
      "  502 ??         0:00.02 /System/Library/Frameworks/VideoToolbox.framework/Vers\r\n",
      "  503 ??         0:00.02 /Applications/Google Chrome.app/Contents/Versions/74.0\r\n",
      "  512 ??         0:01.75 /Applications/Google Chrome.app/Contents/Versions/74.0\r\n",
      "  515 ??         0:00.30 /System/Library/CoreServices/cloudphotosd.app/Contents\r\n",
      "  518 ??         0:00.05 /System/Library/PrivateFrameworks/CloudPhotoServices.f\r\n",
      "  520 ??         0:00.03 /System/Library/PrivateFrameworks/PhotoLibraryPrivate.\r\n",
      "  541 ??         0:00.17 /System/Library/Image Capture/Support/Image Capture Ex\r\n",
      "  563 ??         0:00.05 /usr/bin/ssh-agent -l\r\n",
      "  581 ??         1:15.46 /Applications/Google Chrome.app/Contents/Versions/74.0\r\n",
      "  586 ??         0:01.84 /Users/ikhatri/anaconda3/bin/python -m ipykernel_launc\r\n",
      "  594 ??         0:30.03 /Applications/Firefox.app/Contents/MacOS/firefox\r\n",
      "  596 ??         0:02.56 /Applications/Firefox.app/Contents/MacOS/plugin-contai\r\n",
      "  600 ??         3:40.50 /Applications/Firefox.app/Contents/MacOS/plugin-contai\r\n",
      "  601 ??         0:09.79 /Applications/Firefox.app/Contents/MacOS/plugin-contai\r\n",
      "  607 ??         0:00.02 /System/Library/Frameworks/AudioToolbox.framework/XPCS\r\n",
      "  616 ??         0:00.34 /Applications/Utilities/Terminal.app/Contents/MacOS/Te\r\n",
      "  632 ??         0:00.33 /Applications/Firefox.app/Contents/MacOS/plugin-contai\r\n",
      "  646 ??         0:18.93 /Applications/Google Chrome.app/Contents/Versions/74.0\r\n",
      "  720 ??         0:00.11 /System/Library/Frameworks/ApplicationServices.framewo\r\n",
      "  721 ??         0:00.15 /Applications/Google Chrome.app/Contents/Versions/74.0\r\n",
      "  754 ??         0:00.97 /Users/ikhatri/anaconda3/bin/python -m ipykernel_launc\r\n",
      "  437 ttys000    0:00.02 /Applications/iTerm.app/Contents/MacOS/iTerm2 --server\r\n",
      "  438 ttys000    0:00.03 login -fp ikhatri\r\n",
      "  439 ttys000    0:00.02 -bash\r\n",
      "  575 ttys000    0:03.86 /Users/ikhatri/anaconda3/bin/python /Users/ikhatri/ana\r\n",
      "  740 ttys001    0:00.03 /Applications/iTerm.app/Contents/MacOS/iTerm2 --server\r\n",
      "  741 ttys001    0:00.02 login -fp ikhatri\r\n",
      "  742 ttys001    0:00.01 -bash\r\n",
      "  783 ttys002    0:00.01 ps -x\r\n"
     ]
    }
   ],
   "source": [
    "!ps -x"
   ]
  },
  {
   "cell_type": "code",
   "execution_count": 27,
   "metadata": {},
   "outputs": [
    {
     "name": "stdout",
     "output_type": "stream",
     "text": [
      "/bin/sh: line 0: kill: (101) - No such process\r\n"
     ]
    }
   ],
   "source": [
    "# kill command kills or ends the process\n",
    "!kill 101"
   ]
  },
  {
   "cell_type": "code",
   "execution_count": 29,
   "metadata": {},
   "outputs": [],
   "source": [
    "#exec command replaces the the current process with the new one. "
   ]
  },
  {
   "cell_type": "code",
   "execution_count": null,
   "metadata": {},
   "outputs": [
    {
     "name": "stdout",
     "output_type": "stream",
     "text": [
      "[indirass-mac:~/Dropbox/shell-programs] ikhatri% "
     ]
    }
   ],
   "source": [
    "!exec csh"
   ]
  },
  {
   "cell_type": "code",
   "execution_count": null,
   "metadata": {},
   "outputs": [],
   "source": [
    "!exec bash"
   ]
  },
  {
   "cell_type": "code",
   "execution_count": null,
   "metadata": {},
   "outputs": [],
   "source": []
  }
 ],
 "metadata": {
  "kernelspec": {
   "display_name": "Python 3",
   "language": "python",
   "name": "python3"
  },
  "language_info": {
   "codemirror_mode": {
    "name": "ipython",
    "version": 3
   },
   "file_extension": ".py",
   "mimetype": "text/x-python",
   "name": "python",
   "nbconvert_exporter": "python",
   "pygments_lexer": "ipython3",
   "version": "3.7.1"
  }
 },
 "nbformat": 4,
 "nbformat_minor": 2
}
