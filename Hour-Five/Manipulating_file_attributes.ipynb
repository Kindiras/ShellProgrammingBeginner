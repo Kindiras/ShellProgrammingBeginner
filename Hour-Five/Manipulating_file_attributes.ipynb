{
 "cells": [
  {
   "cell_type": "code",
   "execution_count": 9,
   "metadata": {},
   "outputs": [
    {
     "name": "stdout",
     "output_type": "stream",
     "text": [
      "total 1072\r\n",
      "-rw-r--r--@ 1 ikhatri  staff   46395 May 20 17:40 Untitled.ipynb\r\n",
      "-rw-r--r--@ 1 ikhatri  staff  209835 May 20 18:15 Untitled1.ipynb\r\n",
      "-rw-r--r--@ 1 ikhatri  staff    3070 May 21 12:52 Untitled2.ipynb\r\n",
      "-rw-r--r--@ 1 ikhatri  staff   11759 May 20 22:27 Working_with_directories.ipynb\r\n",
      "lrwxr-xr-x  1 ikhatri  staff       8 May 21 12:49 \u001b[1m\u001b[35mdavid2\u001b[m\u001b[m -> filename\r\n",
      "-rwxr-xr-x@ 1 ikhatri  staff       0 May 20 21:28 \u001b[1m\u001b[32mfile2\u001b[m\u001b[m\r\n",
      "-rwxr-xr-x@ 1 ikhatri  staff       0 May 20 17:24 \u001b[1m\u001b[32mfilename\u001b[m\u001b[m\r\n",
      "drwxr-xr-x@ 2 ikhatri  staff      68 May 20 22:19 \u001b[1m\u001b[34mnewdirectory\u001b[m\u001b[m\r\n",
      "-rw-r--r--@ 1 ikhatri  staff   46148 May 20 17:40 script_basics.ipynb\r\n",
      "-rw-r--r--@ 1 ikhatri  staff  214811 May 20 21:29 working_with_files.ipynb\r\n"
     ]
    }
   ],
   "source": [
    "# viewing permissions of files\n",
    "!ls -l"
   ]
  },
  {
   "cell_type": "code",
   "execution_count": 10,
   "metadata": {},
   "outputs": [],
   "source": [
    "#First hyphen (-) means regular file, first three characters indicate the permission for the owner of the file,\n",
    "#next three character indicates the permission for the group\n",
    "#the last three characters indicate the permission for other users. "
   ]
  },
  {
   "cell_type": "code",
   "execution_count": 11,
   "metadata": {},
   "outputs": [
    {
     "name": "stdout",
     "output_type": "stream",
     "text": [
      "ln: david2: File exists\r\n"
     ]
    }
   ],
   "source": [
    "#Creating symbolic links, dvadi2 gives the link to a file filename\n",
    "!ln -s filename david2"
   ]
  },
  {
   "cell_type": "code",
   "execution_count": 12,
   "metadata": {},
   "outputs": [
    {
     "name": "stdout",
     "output_type": "stream",
     "text": [
      "total 1072\r\n",
      "-rw-r--r--@ 1 ikhatri  staff   46395 May 20 17:40 Untitled.ipynb\r\n",
      "-rw-r--r--@ 1 ikhatri  staff  209835 May 20 18:15 Untitled1.ipynb\r\n",
      "-rw-r--r--@ 1 ikhatri  staff    3342 May 21 12:54 Untitled2.ipynb\r\n",
      "-rw-r--r--@ 1 ikhatri  staff   11759 May 20 22:27 Working_with_directories.ipynb\r\n",
      "lrwxr-xr-x  1 ikhatri  staff       8 May 21 12:49 \u001b[1m\u001b[35mdavid2\u001b[m\u001b[m -> filename\r\n",
      "-rwxr-xr-x@ 1 ikhatri  staff       0 May 20 21:28 \u001b[1m\u001b[32mfile2\u001b[m\u001b[m\r\n",
      "-rwxr-xr-x@ 1 ikhatri  staff       0 May 20 17:24 \u001b[1m\u001b[32mfilename\u001b[m\u001b[m\r\n",
      "drwxr-xr-x@ 2 ikhatri  staff      68 May 20 22:19 \u001b[1m\u001b[34mnewdirectory\u001b[m\u001b[m\r\n",
      "-rw-r--r--@ 1 ikhatri  staff   46148 May 20 17:40 script_basics.ipynb\r\n",
      "-rw-r--r--@ 1 ikhatri  staff  214811 May 20 21:29 working_with_files.ipynb\r\n"
     ]
    }
   ],
   "source": [
    "!ls -l"
   ]
  },
  {
   "cell_type": "code",
   "execution_count": 17,
   "metadata": {},
   "outputs": [],
   "source": [
    "#giving permission to files\n",
    "!chmod ugo+xwr script_basics.ipynb"
   ]
  },
  {
   "cell_type": "code",
   "execution_count": 19,
   "metadata": {},
   "outputs": [
    {
     "name": "stdout",
     "output_type": "stream",
     "text": [
      "total 1072\r\n",
      "-rw-r--r--@ 1 ikhatri  staff   46395 May 20 17:40 Untitled.ipynb\r\n",
      "-rw-r--r--@ 1 ikhatri  staff  209835 May 20 18:15 Untitled1.ipynb\r\n",
      "-rw-r--r--@ 1 ikhatri  staff    3884 May 21 13:45 Untitled2.ipynb\r\n",
      "-rw-r--r--@ 1 ikhatri  staff   11759 May 20 22:27 Working_with_directories.ipynb\r\n",
      "lrwxr-xr-x  1 ikhatri  staff       8 May 21 12:49 \u001b[1m\u001b[35mdavid2\u001b[m\u001b[m -> filename\r\n",
      "-rwxr-xr-x@ 1 ikhatri  staff       0 May 20 21:28 \u001b[1m\u001b[32mfile2\u001b[m\u001b[m\r\n",
      "-rwxr-xr-x@ 1 ikhatri  staff       0 May 20 17:24 \u001b[1m\u001b[32mfilename\u001b[m\u001b[m\r\n",
      "drwxr-xr-x@ 2 ikhatri  staff      68 May 20 22:19 \u001b[1m\u001b[34mnewdirectory\u001b[m\u001b[m\r\n",
      "-rwxrwxrwx@ 1 ikhatri  staff   46148 May 20 17:40 \u001b[1m\u001b[32mscript_basics.ipynb\u001b[m\u001b[m\r\n",
      "-rw-r--r--@ 1 ikhatri  staff  214811 May 20 21:29 working_with_files.ipynb\r\n"
     ]
    }
   ],
   "source": [
    "!ls -l\n"
   ]
  },
  {
   "cell_type": "code",
   "execution_count": 23,
   "metadata": {},
   "outputs": [],
   "source": [
    "#To remove the permission\n",
    "!chmod a-wr script_basics.ipynb"
   ]
  },
  {
   "cell_type": "code",
   "execution_count": 24,
   "metadata": {},
   "outputs": [
    {
     "name": "stdout",
     "output_type": "stream",
     "text": [
      "total 1080\r\n",
      "-rw-r--r--@ 1 ikhatri  staff   46395 May 20 17:40 Untitled.ipynb\r\n",
      "-rw-r--r--@ 1 ikhatri  staff  209835 May 20 18:15 Untitled1.ipynb\r\n",
      "-rw-r--r--@ 1 ikhatri  staff    5116 May 21 13:46 Untitled2.ipynb\r\n",
      "-rw-r--r--@ 1 ikhatri  staff   11759 May 20 22:27 Working_with_directories.ipynb\r\n",
      "lrwxr-xr-x  1 ikhatri  staff       8 May 21 12:49 \u001b[1m\u001b[35mdavid2\u001b[m\u001b[m -> filename\r\n",
      "-rwxr-xr-x@ 1 ikhatri  staff       0 May 20 21:28 \u001b[1m\u001b[32mfile2\u001b[m\u001b[m\r\n",
      "-rwxr-xr-x@ 1 ikhatri  staff       0 May 20 17:24 \u001b[1m\u001b[32mfilename\u001b[m\u001b[m\r\n",
      "drwxr-xr-x@ 2 ikhatri  staff      68 May 20 22:19 \u001b[1m\u001b[34mnewdirectory\u001b[m\u001b[m\r\n",
      "---x--x--x  1 ikhatri  staff   46148 May 20 17:40 \u001b[1m\u001b[32mscript_basics.ipynb\u001b[m\u001b[m\r\n",
      "-rw-r--r--@ 1 ikhatri  staff  214811 May 20 21:29 working_with_files.ipynb\r\n"
     ]
    }
   ],
   "source": [
    "!ls -l"
   ]
  },
  {
   "cell_type": "code",
   "execution_count": 25,
   "metadata": {},
   "outputs": [],
   "source": [
    "!chmod u+rwx script_basics.ipynb"
   ]
  },
  {
   "cell_type": "code",
   "execution_count": 27,
   "metadata": {},
   "outputs": [
    {
     "name": "stdout",
     "output_type": "stream",
     "text": [
      "total 1080\r\n",
      "-rw-r--r--@ 1 ikhatri  staff   46395 May 20 17:40 Untitled.ipynb\r\n",
      "-rw-r--r--@ 1 ikhatri  staff  209835 May 20 18:15 Untitled1.ipynb\r\n",
      "-rw-r--r--@ 1 ikhatri  staff    5116 May 21 13:46 Untitled2.ipynb\r\n",
      "-rw-r--r--@ 1 ikhatri  staff   11759 May 20 22:27 Working_with_directories.ipynb\r\n",
      "lrwxr-xr-x  1 ikhatri  staff       8 May 21 12:49 \u001b[1m\u001b[35mdavid2\u001b[m\u001b[m -> filename\r\n",
      "-rwxr-xr-x@ 1 ikhatri  staff       0 May 20 21:28 \u001b[1m\u001b[32mfile2\u001b[m\u001b[m\r\n",
      "-rwxr-xr-x@ 1 ikhatri  staff       0 May 20 17:24 \u001b[1m\u001b[32mfilename\u001b[m\u001b[m\r\n",
      "drwxr-xr-x@ 2 ikhatri  staff      68 May 20 22:19 \u001b[1m\u001b[34mnewdirectory\u001b[m\u001b[m\r\n",
      "-rwx--x--x@ 1 ikhatri  staff   46148 May 20 17:40 \u001b[1m\u001b[32mscript_basics.ipynb\u001b[m\u001b[m\r\n",
      "-rw-r--r--@ 1 ikhatri  staff  214811 May 20 21:29 working_with_files.ipynb\r\n"
     ]
    }
   ],
   "source": [
    "!ls -l"
   ]
  },
  {
   "cell_type": "code",
   "execution_count": 28,
   "metadata": {},
   "outputs": [],
   "source": [
    "!mkdir directory"
   ]
  },
  {
   "cell_type": "code",
   "execution_count": 29,
   "metadata": {},
   "outputs": [
    {
     "name": "stdout",
     "output_type": "stream",
     "text": [
      "Untitled.ipynb                 \u001b[1m\u001b[32mfile2\u001b[m\u001b[m\r\n",
      "Untitled1.ipynb                \u001b[1m\u001b[32mfilename\u001b[m\u001b[m\r\n",
      "Untitled2.ipynb                \u001b[1m\u001b[34mnewdirectory\u001b[m\u001b[m\r\n",
      "Working_with_directories.ipynb \u001b[1m\u001b[32mscript_basics.ipynb\u001b[m\u001b[m\r\n",
      "\u001b[1m\u001b[35mdavid2\u001b[m\u001b[m                         working_with_files.ipynb\r\n",
      "\u001b[1m\u001b[34mdirectory\u001b[m\u001b[m\r\n"
     ]
    }
   ],
   "source": [
    "!ls"
   ]
  },
  {
   "cell_type": "code",
   "execution_count": 37,
   "metadata": {},
   "outputs": [
    {
     "name": "stdout",
     "output_type": "stream",
     "text": [
      "total 1088\r\n",
      "-rw-r--r--@ 1 ikhatri  staff   46395 May 20 17:40 Untitled.ipynb\r\n",
      "-rw-r--r--@ 1 ikhatri  staff  209835 May 20 18:15 Untitled1.ipynb\r\n",
      "-rw-r--r--@ 1 ikhatri  staff    9172 May 21 13:54 Untitled2.ipynb\r\n",
      "-rw-r--r--@ 1 ikhatri  staff   11759 May 20 22:27 Working_with_directories.ipynb\r\n",
      "lrwxr-xr-x  1 ikhatri  staff       8 May 21 12:49 \u001b[1m\u001b[35mdavid2\u001b[m\u001b[m -> filename\r\n",
      "drwxr-xr-x@ 2 ikhatri  staff      68 May 21 13:49 \u001b[1m\u001b[34mdirectory\u001b[m\u001b[m\r\n",
      "-rwxr-xr-x@ 1 ikhatri  staff       0 May 20 21:28 \u001b[1m\u001b[32mfile2\u001b[m\u001b[m\r\n",
      "-rwxr-xr-x@ 1 ikhatri  staff       0 May 20 17:24 \u001b[1m\u001b[32mfilename\u001b[m\u001b[m\r\n",
      "drwxr-xr-x@ 2 ikhatri  staff      68 May 20 22:19 \u001b[1m\u001b[34mnewdirectory\u001b[m\u001b[m\r\n",
      "-rwx--x--x@ 1 ikhatri  staff   46148 May 20 17:40 \u001b[1m\u001b[32mscript_basics.ipynb\u001b[m\u001b[m\r\n",
      "-rw-r--r--@ 1 ikhatri  staff  214811 May 20 21:29 working_with_files.ipynb\r\n"
     ]
    }
   ],
   "source": [
    "!ls -l\n"
   ]
  },
  {
   "cell_type": "code",
   "execution_count": 39,
   "metadata": {},
   "outputs": [],
   "source": [
    "# Change the permission of this directory\n",
    "!chmod ugoa+wrxs directory/"
   ]
  },
  {
   "cell_type": "code",
   "execution_count": 40,
   "metadata": {},
   "outputs": [
    {
     "name": "stdout",
     "output_type": "stream",
     "text": [
      "total 1088\r\n",
      "-rw-r--r--@ 1 ikhatri  staff   46395 May 20 17:40 Untitled.ipynb\r\n",
      "-rw-r--r--@ 1 ikhatri  staff  209835 May 20 18:15 Untitled1.ipynb\r\n",
      "-rw-r--r--@ 1 ikhatri  staff   10529 May 21 13:56 Untitled2.ipynb\r\n",
      "-rw-r--r--@ 1 ikhatri  staff   11759 May 20 22:27 Working_with_directories.ipynb\r\n",
      "lrwxr-xr-x  1 ikhatri  staff       8 May 21 12:49 \u001b[1m\u001b[35mdavid2\u001b[m\u001b[m -> filename\r\n",
      "drwsrwsrwx@ 2 ikhatri  staff      68 May 21 13:49 \u001b[30m\u001b[43mdirectory\u001b[m\u001b[m\r\n",
      "-rwxr-xr-x@ 1 ikhatri  staff       0 May 20 21:28 \u001b[1m\u001b[32mfile2\u001b[m\u001b[m\r\n",
      "-rwxr-xr-x@ 1 ikhatri  staff       0 May 20 17:24 \u001b[1m\u001b[32mfilename\u001b[m\u001b[m\r\n",
      "drwxr-xr-x@ 2 ikhatri  staff      68 May 20 22:19 \u001b[1m\u001b[34mnewdirectory\u001b[m\u001b[m\r\n",
      "-rwx--x--x@ 1 ikhatri  staff   46148 May 20 17:40 \u001b[1m\u001b[32mscript_basics.ipynb\u001b[m\u001b[m\r\n",
      "-rw-r--r--@ 1 ikhatri  staff  214811 May 20 21:29 working_with_files.ipynb\r\n"
     ]
    }
   ],
   "source": [
    "!ls -l"
   ]
  },
  {
   "cell_type": "code",
   "execution_count": null,
   "metadata": {},
   "outputs": [],
   "source": []
  }
 ],
 "metadata": {
  "kernelspec": {
   "display_name": "Python 3",
   "language": "python",
   "name": "python3"
  },
  "language_info": {
   "codemirror_mode": {
    "name": "ipython",
    "version": 3
   },
   "file_extension": ".py",
   "mimetype": "text/x-python",
   "name": "python",
   "nbconvert_exporter": "python",
   "pygments_lexer": "ipython3",
   "version": "3.7.1"
  }
 },
 "nbformat": 4,
 "nbformat_minor": 2
}
