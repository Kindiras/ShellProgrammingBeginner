{
 "cells": [
  {
   "cell_type": "code",
   "execution_count": 2,
   "metadata": {},
   "outputs": [],
   "source": [
    "#To run shell command in Jupyter-notebook use !. To run in terminal don't use !. "
   ]
  },
  {
   "cell_type": "code",
   "execution_count": 3,
   "metadata": {},
   "outputs": [
    {
     "name": "stdout",
     "output_type": "stream",
     "text": [
      "\u001b[1m\u001b[34mCdTecluster\u001b[m\u001b[m/            \u001b[1m\u001b[34mTedimdeposit2next\u001b[m\u001b[m/      newvelocity.py\r\n",
      "\u001b[1m\u001b[32mNathan-outline.docx\u001b[m\u001b[m*    Untitled.ipynb          random-test.py\r\n",
      "\u001b[1m\u001b[34mTedimdeposit\u001b[m\u001b[m/           dimer_orientation.dat   random_orientation.dat\r\n"
     ]
    }
   ],
   "source": [
    "ls"
   ]
  },
  {
   "cell_type": "code",
   "execution_count": 4,
   "metadata": {},
   "outputs": [
    {
     "data": {
      "text/plain": [
       "'/Users/kteeka/Desktop/Indi'"
      ]
     },
     "execution_count": 4,
     "metadata": {},
     "output_type": "execute_result"
    }
   ],
   "source": [
    "pwd"
   ]
  },
  {
   "cell_type": "code",
   "execution_count": 5,
   "metadata": {},
   "outputs": [
    {
     "name": "stdout",
     "output_type": "stream",
     "text": [
      "\u001b[1m\u001b[34mCdTecluster\u001b[m\u001b[m            \u001b[1m\u001b[34mTedimdeposit2next\u001b[m\u001b[m      newvelocity.py\r\n",
      "\u001b[1m\u001b[32mNathan-outline.docx\u001b[m\u001b[m    Untitled.ipynb         random-test.py\r\n",
      "\u001b[1m\u001b[34mTedimdeposit\u001b[m\u001b[m           dimer_orientation.dat  random_orientation.dat\r\n"
     ]
    }
   ],
   "source": [
    "!ls"
   ]
  },
  {
   "cell_type": "code",
   "execution_count": 6,
   "metadata": {},
   "outputs": [
    {
     "name": "stdout",
     "output_type": "stream",
     "text": [
      "/Users/kteeka/Desktop/Indi\r\n"
     ]
    }
   ],
   "source": [
    "!pwd"
   ]
  },
  {
   "cell_type": "code",
   "execution_count": 7,
   "metadata": {},
   "outputs": [
    {
     "name": "stdout",
     "output_type": "stream",
     "text": [
      "Mon May 20 00:01:22 EDT 2019\r\n"
     ]
    }
   ],
   "source": [
    "#The basic command we can use in the terminal is date\n",
    "!date"
   ]
  },
  {
   "cell_type": "code",
   "execution_count": 10,
   "metadata": {},
   "outputs": [
    {
     "name": "stdout",
     "output_type": "stream",
     "text": [
      "kteeka   console  May  6 23:35 \r\n",
      "kteeka   ttys000  May 19 23:03 \r\n",
      "kteeka   ttys001  May 19 23:03 \r\n",
      "kteeka   ttys002  May 19 23:03 \r\n",
      "kteeka   ttys003  May 11 22:53 \r\n",
      "kteeka   ttys004  May 19 23:03 \r\n",
      "kteeka   ttys005  May 19 23:03 \r\n",
      "kteeka   ttys006  May 19 23:03 \r\n",
      "kteeka   ttys007  May 19 23:54 \r\n",
      "kteeka   ttys008  May 20 00:02 \r\n"
     ]
    }
   ],
   "source": [
    "!who"
   ]
  },
  {
   "cell_type": "code",
   "execution_count": 12,
   "metadata": {},
   "outputs": [
    {
     "name": "stdout",
     "output_type": "stream",
     "text": [
      "kteeka   ttys009  May 20 00:03 \r\n"
     ]
    }
   ],
   "source": [
    "!who am i"
   ]
  },
  {
   "cell_type": "code",
   "execution_count": 13,
   "metadata": {},
   "outputs": [],
   "source": [
    "#semicolon (;) is used to separate the complex command as for example: "
   ]
  },
  {
   "cell_type": "code",
   "execution_count": 29,
   "metadata": {},
   "outputs": [
    {
     "name": "stdout",
     "output_type": "stream",
     "text": [
      "Mon May 20 00:07:33 EDT 2019\r\n",
      "kteeka   ttys009  May 20 00:07 \r\n"
     ]
    }
   ],
   "source": [
    "!date; who am i;"
   ]
  },
  {
   "cell_type": "code",
   "execution_count": null,
   "metadata": {},
   "outputs": [],
   "source": []
  }
 ],
 "metadata": {
  "kernelspec": {
   "display_name": "Python 3",
   "language": "python",
   "name": "python3"
  },
  "language_info": {
   "codemirror_mode": {
    "name": "ipython",
    "version": 3
   },
   "file_extension": ".py",
   "mimetype": "text/x-python",
   "name": "python",
   "nbconvert_exporter": "python",
   "pygments_lexer": "ipython3",
   "version": "3.7.3"
  }
 },
 "nbformat": 4,
 "nbformat_minor": 2
}
