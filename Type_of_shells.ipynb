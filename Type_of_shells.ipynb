{
 "cells": [
  {
   "cell_type": "code",
   "execution_count": 30,
   "metadata": {},
   "outputs": [],
   "source": [
    "#Types of Shells\n",
    "#In the UNIX there are two types of shell:\n",
    "# The Bourne shell which has sh,ksh and bash\n",
    "#The C shell which has csh and tchs\n",
    "#c-type of shells are not powerful enough for shell programing. \n",
    "# For Bourne-type of shell, the default prompt is $character whereas for c-type of shell %character is the prompt. \n",
    "#Note that for root account for both shells # character is the prompt."
   ]
  },
  {
   "cell_type": "code",
   "execution_count": 31,
   "metadata": {},
   "outputs": [],
   "source": [
    "# Aliases are simplyfied form of Bourne shell whereas C shell enables to execute multiple processes and control them \n",
    "#using jobs command. "
   ]
  },
  {
   "cell_type": "code",
   "execution_count": 33,
   "metadata": {},
   "outputs": [
    {
     "name": "stdout",
     "output_type": "stream",
     "text": [
      "total 296\r\n",
      "drwxr-xr-x  10 kteeka  staff     340 May  4 17:40 \u001b[1m\u001b[34mCdTecluster\u001b[m\u001b[m\r\n",
      "-rwxr-xr-x@  1 kteeka  staff  108437 Feb  1 17:12 \u001b[1m\u001b[32mNathan-outline.docx\u001b[m\u001b[m\r\n",
      "drwxr-xr-x  10 kteeka  staff     340 May  9 00:32 \u001b[1m\u001b[34mTedimdeposit\u001b[m\u001b[m\r\n",
      "drwxr-xr-x  14 kteeka  staff     476 May  9 03:09 \u001b[1m\u001b[34mTedimdeposit2next\u001b[m\u001b[m\r\n",
      "-rw-r--r--   1 kteeka  staff    1283 May 20 00:28 Untitled.ipynb\r\n",
      "-rw-r--r--@  1 kteeka  staff     608 May  8 15:21 dimer_orientation.dat\r\n",
      "-rw-r--r--@  1 kteeka  staff    1327 May  2 18:35 newvelocity.py\r\n",
      "-rw-r--r--@  1 kteeka  staff     162 Apr 17 00:10 random-test.py\r\n",
      "-rw-r--r--@  1 kteeka  staff     606 May  8 14:37 random_orientation.dat\r\n",
      "-rw-r--r--   1 kteeka  staff    4272 May 20 00:07 some_commands.ipynb\r\n"
     ]
    }
   ],
   "source": [
    "# some other commands in shell program\n",
    "!ls -l\n"
   ]
  },
  {
   "cell_type": "code",
   "execution_count": 36,
   "metadata": {},
   "outputs": [
    {
     "name": "stdout",
     "output_type": "stream",
     "text": [
      "Hi Friends\r\n"
     ]
    }
   ],
   "source": [
    "!echo \"Hi Friends\""
   ]
  },
  {
   "cell_type": "code",
   "execution_count": null,
   "metadata": {},
   "outputs": [],
   "source": []
  }
 ],
 "metadata": {
  "kernelspec": {
   "display_name": "Python 3",
   "language": "python",
   "name": "python3"
  },
  "language_info": {
   "codemirror_mode": {
    "name": "ipython",
    "version": 3
   },
   "file_extension": ".py",
   "mimetype": "text/x-python",
   "name": "python",
   "nbconvert_exporter": "python",
   "pygments_lexer": "ipython3",
   "version": "3.7.3"
  }
 },
 "nbformat": 4,
 "nbformat_minor": 2
}
